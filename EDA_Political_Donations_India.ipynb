{
 "cells": [
  {
   "cell_type": "markdown",
   "id": "59f7dc8a",
   "metadata": {},
   "source": [
    "# EDA on Landscape of Political Donations in India\n",
    "        \n",
    "             Political donations play a crucial role in financing elections and shaping the political landscape of any country. Understanding the patterns and trends in these donations can shed light on the influence of money in politics, transparency, and potential biases. In India, political parties are required to disclose donations above a certain threshold, offering valuable data for analysis. This project aims to conduct an exploratory data analysis (EDA) on a dataset of donations to Indian political parties to uncover insights and raise questions about the current funding landscape.\n",
    "            \n",
    "## Problem Statement:\n",
    "            \n",
    "            Limited transparency and understanding exist regarding sources and patterns of political donations in India. This project uses EDA to explore a political donation dataset, aiming to uncover:\n",
    "              - Donor profiles: Who are the key contributors and are there industry/sector biases?\n",
    "              - Geographical trends: Do specific regions or states dominate donations?\n",
    "              - Temporal evolution: Have donation amounts/sources changed over time?\n",
    "              - Potential irregularities: Can we identify outliers or suspicious patterns?\n",
    "            By uncovering these insights, the project seeks to shed light on the current state of political funding in India and its potential impact on the democratic process.\n",
    "           "
   ]
  },
  {
   "cell_type": "markdown",
   "id": "68fb1363",
   "metadata": {},
   "source": [
    "## About the Dataset:\n",
    "\n",
    "<h3>Context</h3>\n",
    "\n",
    "Donations to political parties from India containing 12 Years of data.\n",
    "\n",
    "Time Period: 2003-04 to 2014-15 <br>\n",
    "Granularity: Yearly <br>\n",
    "Entity: Major Indian political parties\n",
    "\n",
    "<h3>Columns</h3>\n",
    "\n",
    "    1. Political Party\n",
    "    2. Donator\n",
    "    3. Address\n",
    "    4. Pan Y/N\n",
    "    5. Amount\n",
    "    6. Contribution Mode\n",
    "    7. Financial Year\n",
    "\n",
    "<h3>Acknowledgements</h3>\n",
    "\n",
    "Data source is from https://www.myneta.info/\n",
    "dataset downloaded from https://data.world/ambarishn/donations-to-political-parties "
   ]
  },
  {
   "cell_type": "markdown",
   "id": "ddfa353d",
   "metadata": {},
   "source": [
    "#"
   ]
  },
  {
   "cell_type": "markdown",
   "id": "bec89593",
   "metadata": {},
   "source": [
    "## Importing Libraries"
   ]
  },
  {
   "cell_type": "code",
   "execution_count": 1,
   "id": "ad05d7e3",
   "metadata": {},
   "outputs": [],
   "source": [
    "import numpy as np\n",
    "import pandas as pd\n",
    "import matplotlib.pyplot as plt\n",
    "import seaborn as sns\n",
    "%matplotlib inline"
   ]
  },
  {
   "cell_type": "code",
   "execution_count": 2,
   "id": "cb4df88d",
   "metadata": {},
   "outputs": [],
   "source": [
    "import warnings\n",
    "warnings.filterwarnings(\"ignore\")"
   ]
  },
  {
   "cell_type": "markdown",
   "id": "705af2f3",
   "metadata": {},
   "source": [
    "#"
   ]
  },
  {
   "cell_type": "markdown",
   "id": "6e51d651",
   "metadata": {},
   "source": [
    "## Read dataset from MS Excel file"
   ]
  },
  {
   "cell_type": "code",
   "execution_count": 3,
   "id": "0433031f",
   "metadata": {
    "scrolled": false
   },
   "outputs": [
    {
     "data": {
      "text/html": [
       "<div>\n",
       "<style scoped>\n",
       "    .dataframe tbody tr th:only-of-type {\n",
       "        vertical-align: middle;\n",
       "    }\n",
       "\n",
       "    .dataframe tbody tr th {\n",
       "        vertical-align: top;\n",
       "    }\n",
       "\n",
       "    .dataframe thead th {\n",
       "        text-align: right;\n",
       "    }\n",
       "</style>\n",
       "<table border=\"1\" class=\"dataframe\">\n",
       "  <thead>\n",
       "    <tr style=\"text-align: right;\">\n",
       "      <th></th>\n",
       "      <th>Party</th>\n",
       "      <th>Name</th>\n",
       "      <th>Type</th>\n",
       "      <th>Address</th>\n",
       "      <th>PAN Given</th>\n",
       "      <th>Amount</th>\n",
       "      <th>Contribution Mode</th>\n",
       "      <th>Financial Year</th>\n",
       "      <th>Unnamed: 8</th>\n",
       "      <th>Unnamed: 9</th>\n",
       "      <th>Unnamed: 10</th>\n",
       "      <th>Unnamed: 11</th>\n",
       "      <th>Unnamed: 12</th>\n",
       "      <th>Unnamed: 13</th>\n",
       "    </tr>\n",
       "  </thead>\n",
       "  <tbody>\n",
       "    <tr>\n",
       "      <th>0</th>\n",
       "      <td>CPI</td>\n",
       "      <td>Aziz Pasha</td>\n",
       "      <td>Others</td>\n",
       "      <td>16-B, Ferozeshah Road New Delhi-1</td>\n",
       "      <td>Y</td>\n",
       "      <td>3000000</td>\n",
       "      <td>CASH</td>\n",
       "      <td>2010-11</td>\n",
       "      <td>NaN</td>\n",
       "      <td>NaN</td>\n",
       "      <td>NaN</td>\n",
       "      <td>NaN</td>\n",
       "      <td>NaN</td>\n",
       "      <td>NaN</td>\n",
       "    </tr>\n",
       "    <tr>\n",
       "      <th>1</th>\n",
       "      <td>CPI(M)</td>\n",
       "      <td>V K Ramachandran</td>\n",
       "      <td>Others</td>\n",
       "      <td>No.1, First Floor Main Road Domlur Second Stag...</td>\n",
       "      <td>Y</td>\n",
       "      <td>10000000</td>\n",
       "      <td>000037, HDFC Bank Bengaluru, Dt. 16.03.2015, 5...</td>\n",
       "      <td>2014-15</td>\n",
       "      <td>NaN</td>\n",
       "      <td>NaN</td>\n",
       "      <td>NaN</td>\n",
       "      <td>NaN</td>\n",
       "      <td>NaN</td>\n",
       "      <td>NaN</td>\n",
       "    </tr>\n",
       "    <tr>\n",
       "      <th>2</th>\n",
       "      <td>INC</td>\n",
       "      <td>Dr. Manmohan Singh</td>\n",
       "      <td>Others</td>\n",
       "      <td>3, Motilal Nehru Place New Delhi</td>\n",
       "      <td>N</td>\n",
       "      <td>108000</td>\n",
       "      <td>Cheque, State Bank of India Parliament House N...</td>\n",
       "      <td>2014-15</td>\n",
       "      <td>NaN</td>\n",
       "      <td>NaN</td>\n",
       "      <td>NaN</td>\n",
       "      <td>NaN</td>\n",
       "      <td>NaN</td>\n",
       "      <td>NaN</td>\n",
       "    </tr>\n",
       "    <tr>\n",
       "      <th>3</th>\n",
       "      <td>INC</td>\n",
       "      <td>Dr. Manda Jagnathan</td>\n",
       "      <td>Others</td>\n",
       "      <td>9,Firozshah Road New Delhi</td>\n",
       "      <td>N</td>\n",
       "      <td>54000</td>\n",
       "      <td>Through Bank Transfer</td>\n",
       "      <td>2011-12</td>\n",
       "      <td>NaN</td>\n",
       "      <td>NaN</td>\n",
       "      <td>NaN</td>\n",
       "      <td>NaN</td>\n",
       "      <td>NaN</td>\n",
       "      <td>NaN</td>\n",
       "    </tr>\n",
       "    <tr>\n",
       "      <th>4</th>\n",
       "      <td>INC</td>\n",
       "      <td>Prof. K.V.Thomas</td>\n",
       "      <td>Others</td>\n",
       "      <td>17,Dr.B.R.Mehta Lane New Delhi</td>\n",
       "      <td>N</td>\n",
       "      <td>54000</td>\n",
       "      <td>Through Bank Transfer</td>\n",
       "      <td>2011-12</td>\n",
       "      <td>NaN</td>\n",
       "      <td>NaN</td>\n",
       "      <td>NaN</td>\n",
       "      <td>NaN</td>\n",
       "      <td>NaN</td>\n",
       "      <td>NaN</td>\n",
       "    </tr>\n",
       "  </tbody>\n",
       "</table>\n",
       "</div>"
      ],
      "text/plain": [
       "    Party                 Name    Type  \\\n",
       "0     CPI           Aziz Pasha  Others   \n",
       "1  CPI(M)     V K Ramachandran  Others   \n",
       "2     INC   Dr. Manmohan Singh  Others   \n",
       "3     INC  Dr. Manda Jagnathan  Others   \n",
       "4     INC     Prof. K.V.Thomas  Others   \n",
       "\n",
       "                                             Address PAN Given    Amount  \\\n",
       "0                  16-B, Ferozeshah Road New Delhi-1         Y   3000000   \n",
       "1  No.1, First Floor Main Road Domlur Second Stag...         Y  10000000   \n",
       "2                   3, Motilal Nehru Place New Delhi         N    108000   \n",
       "3                        9,Firozshah Road New Delhi          N     54000   \n",
       "4                     17,Dr.B.R.Mehta Lane New Delhi         N     54000   \n",
       "\n",
       "                                   Contribution Mode Financial Year   \\\n",
       "0                                               CASH         2010-11   \n",
       "1  000037, HDFC Bank Bengaluru, Dt. 16.03.2015, 5...         2014-15   \n",
       "2  Cheque, State Bank of India Parliament House N...         2014-15   \n",
       "3                              Through Bank Transfer         2011-12   \n",
       "4                              Through Bank Transfer         2011-12   \n",
       "\n",
       "   Unnamed: 8  Unnamed: 9 Unnamed: 10  Unnamed: 11  Unnamed: 12 Unnamed: 13  \n",
       "0         NaN         NaN         NaN          NaN          NaN         NaN  \n",
       "1         NaN         NaN         NaN          NaN          NaN         NaN  \n",
       "2         NaN         NaN         NaN          NaN          NaN         NaN  \n",
       "3         NaN         NaN         NaN          NaN          NaN         NaN  \n",
       "4         NaN         NaN         NaN          NaN          NaN         NaN  "
      ]
     },
     "execution_count": 3,
     "metadata": {},
     "output_type": "execute_result"
    }
   ],
   "source": [
    "df = pd.read_excel('Donations to national political parties - India.xlsx')\n",
    "df.head()"
   ]
  },
  {
   "cell_type": "markdown",
   "id": "0c4844db",
   "metadata": {},
   "source": [
    "### Understanding the structure of dataframe"
   ]
  },
  {
   "cell_type": "code",
   "execution_count": 4,
   "id": "a0f7f4ab",
   "metadata": {},
   "outputs": [
    {
     "name": "stdout",
     "output_type": "stream",
     "text": [
      "Number of rows: 13573\n",
      "Number of columns: 14\n"
     ]
    }
   ],
   "source": [
    "print('Number of rows:',df.shape[0])\n",
    "print('Number of columns:', df.shape[1])"
   ]
  },
  {
   "cell_type": "code",
   "execution_count": 5,
   "id": "0c1be968",
   "metadata": {},
   "outputs": [
    {
     "data": {
      "text/plain": [
       "Index(['Party', 'Name', 'Type', 'Address', 'PAN Given', 'Amount',\n",
       "       'Contribution Mode', 'Financial Year ', 'Unnamed: 8', 'Unnamed: 9',\n",
       "       'Unnamed: 10', 'Unnamed: 11', 'Unnamed: 12', 'Unnamed: 13'],\n",
       "      dtype='object')"
      ]
     },
     "execution_count": 5,
     "metadata": {},
     "output_type": "execute_result"
    }
   ],
   "source": [
    "df.columns"
   ]
  },
  {
   "cell_type": "code",
   "execution_count": 6,
   "id": "6112e57d",
   "metadata": {},
   "outputs": [
    {
     "name": "stdout",
     "output_type": "stream",
     "text": [
      "<class 'pandas.core.frame.DataFrame'>\n",
      "RangeIndex: 13573 entries, 0 to 13572\n",
      "Data columns (total 14 columns):\n",
      " #   Column             Non-Null Count  Dtype  \n",
      "---  ------             --------------  -----  \n",
      " 0   Party              13573 non-null  object \n",
      " 1   Name               13528 non-null  object \n",
      " 2   Type               13573 non-null  object \n",
      " 3   Address            13573 non-null  object \n",
      " 4   PAN Given          13573 non-null  object \n",
      " 5   Amount             13573 non-null  int64  \n",
      " 6   Contribution Mode  13339 non-null  object \n",
      " 7   Financial Year     13573 non-null  object \n",
      " 8   Unnamed: 8         0 non-null      float64\n",
      " 9   Unnamed: 9         0 non-null      float64\n",
      " 10  Unnamed: 10        3 non-null      object \n",
      " 11  Unnamed: 11        0 non-null      float64\n",
      " 12  Unnamed: 12        0 non-null      float64\n",
      " 13  Unnamed: 13        1 non-null      object \n",
      "dtypes: float64(4), int64(1), object(9)\n",
      "memory usage: 1.4+ MB\n"
     ]
    }
   ],
   "source": [
    "df.info()"
   ]
  },
  {
   "cell_type": "markdown",
   "id": "ec66caaa",
   "metadata": {},
   "source": [
    "### Drop unwanted columns"
   ]
  },
  {
   "cell_type": "code",
   "execution_count": 7,
   "id": "9904a594",
   "metadata": {},
   "outputs": [],
   "source": [
    "# drop all columns except 'Party','Name','PAN Given','Amount','Financial Year '\n",
    "df = df[['Party','Name','PAN Given','Amount','Financial Year ']]"
   ]
  },
  {
   "cell_type": "code",
   "execution_count": 8,
   "id": "1fdc3056",
   "metadata": {
    "scrolled": true
   },
   "outputs": [],
   "source": [
    "# rename 'Financial Year ' to 'Financial Year'\n",
    "df.rename(columns = {'Financial Year ':'Financial Year'}, inplace=True)"
   ]
  },
  {
   "cell_type": "markdown",
   "id": "12c04bf0",
   "metadata": {},
   "source": [
    "### Checking for null values"
   ]
  },
  {
   "cell_type": "code",
   "execution_count": 9,
   "id": "aef20d6e",
   "metadata": {},
   "outputs": [
    {
     "data": {
      "text/plain": [
       "Party              0\n",
       "Name              45\n",
       "PAN Given          0\n",
       "Amount             0\n",
       "Financial Year     0\n",
       "dtype: int64"
      ]
     },
     "execution_count": 9,
     "metadata": {},
     "output_type": "execute_result"
    }
   ],
   "source": [
    "df.isnull().sum()"
   ]
  },
  {
   "cell_type": "code",
   "execution_count": 11,
   "id": "bf9bff7c",
   "metadata": {},
   "outputs": [],
   "source": [
    "# Replace null values in Name column with 'Unknown' donator.\n",
    "df['Name'].fillna('Unknown', inplace = True)"
   ]
  },
  {
   "cell_type": "code",
   "execution_count": 12,
   "id": "e04820a0",
   "metadata": {},
   "outputs": [
    {
     "data": {
      "text/html": [
       "<div>\n",
       "<style scoped>\n",
       "    .dataframe tbody tr th:only-of-type {\n",
       "        vertical-align: middle;\n",
       "    }\n",
       "\n",
       "    .dataframe tbody tr th {\n",
       "        vertical-align: top;\n",
       "    }\n",
       "\n",
       "    .dataframe thead th {\n",
       "        text-align: right;\n",
       "    }\n",
       "</style>\n",
       "<table border=\"1\" class=\"dataframe\">\n",
       "  <thead>\n",
       "    <tr style=\"text-align: right;\">\n",
       "      <th></th>\n",
       "      <th>5033</th>\n",
       "      <th>1254</th>\n",
       "      <th>9995</th>\n",
       "      <th>9831</th>\n",
       "      <th>6413</th>\n",
       "      <th>3022</th>\n",
       "      <th>8140</th>\n",
       "      <th>5600</th>\n",
       "      <th>12059</th>\n",
       "      <th>12751</th>\n",
       "      <th>13046</th>\n",
       "      <th>6769</th>\n",
       "      <th>9209</th>\n",
       "      <th>8299</th>\n",
       "      <th>1380</th>\n",
       "      <th>997</th>\n",
       "      <th>12422</th>\n",
       "      <th>8085</th>\n",
       "      <th>5124</th>\n",
       "      <th>2107</th>\n",
       "    </tr>\n",
       "  </thead>\n",
       "  <tbody>\n",
       "    <tr>\n",
       "      <th>Party</th>\n",
       "      <td>BJP</td>\n",
       "      <td>BJP</td>\n",
       "      <td>BJP</td>\n",
       "      <td>BJP</td>\n",
       "      <td>BJP</td>\n",
       "      <td>BJP</td>\n",
       "      <td>BJP</td>\n",
       "      <td>INC</td>\n",
       "      <td>INC</td>\n",
       "      <td>BJP</td>\n",
       "      <td>BJP</td>\n",
       "      <td>INC</td>\n",
       "      <td>INC</td>\n",
       "      <td>BJP</td>\n",
       "      <td>BJP</td>\n",
       "      <td>BJP</td>\n",
       "      <td>BJP</td>\n",
       "      <td>INC</td>\n",
       "      <td>INC</td>\n",
       "      <td>BJP</td>\n",
       "    </tr>\n",
       "    <tr>\n",
       "      <th>Name</th>\n",
       "      <td>Leela Builders Infrastr</td>\n",
       "      <td>Baldev Singh, Namdhari</td>\n",
       "      <td>Shree Gujarat Ginjer Trading Company</td>\n",
       "      <td>Shayamvijay Developers</td>\n",
       "      <td>Unknown</td>\n",
       "      <td>Ganga Singh</td>\n",
       "      <td>Rakesh Tiwari</td>\n",
       "      <td>Malaram Gangwal</td>\n",
       "      <td>Subodh Kant Sahay</td>\n",
       "      <td>Uma Devi</td>\n",
       "      <td>Veena Sabarwal</td>\n",
       "      <td>Nilesh Narayan Rane</td>\n",
       "      <td>Sesa Goa Ltd.</td>\n",
       "      <td>Ranjit Buildcon Ltd</td>\n",
       "      <td>Bhaktpal Singh</td>\n",
       "      <td>Asianet TV Holding Pvt. Limited</td>\n",
       "      <td>Taparia Tools Ltd.</td>\n",
       "      <td>Rajiv Shukla</td>\n",
       "      <td>Luizinho Falerio</td>\n",
       "      <td>D K Patel &amp; Co</td>\n",
       "    </tr>\n",
       "    <tr>\n",
       "      <th>PAN Given</th>\n",
       "      <td>N</td>\n",
       "      <td>Y</td>\n",
       "      <td>Y</td>\n",
       "      <td>N</td>\n",
       "      <td>Y</td>\n",
       "      <td>N</td>\n",
       "      <td>N</td>\n",
       "      <td>N</td>\n",
       "      <td>N</td>\n",
       "      <td>Y</td>\n",
       "      <td>Y</td>\n",
       "      <td>N</td>\n",
       "      <td>N</td>\n",
       "      <td>Y</td>\n",
       "      <td>Y</td>\n",
       "      <td>Y</td>\n",
       "      <td>Y</td>\n",
       "      <td>N</td>\n",
       "      <td>N</td>\n",
       "      <td>N</td>\n",
       "    </tr>\n",
       "    <tr>\n",
       "      <th>Amount</th>\n",
       "      <td>50000</td>\n",
       "      <td>100000</td>\n",
       "      <td>25000</td>\n",
       "      <td>25000</td>\n",
       "      <td>85000</td>\n",
       "      <td>100000</td>\n",
       "      <td>500000</td>\n",
       "      <td>33000</td>\n",
       "      <td>38500</td>\n",
       "      <td>100000</td>\n",
       "      <td>50000</td>\n",
       "      <td>54000</td>\n",
       "      <td>1500000</td>\n",
       "      <td>1500000</td>\n",
       "      <td>100000</td>\n",
       "      <td>50000000</td>\n",
       "      <td>25000</td>\n",
       "      <td>54000</td>\n",
       "      <td>34400</td>\n",
       "      <td>500000</td>\n",
       "    </tr>\n",
       "    <tr>\n",
       "      <th>Financial Year</th>\n",
       "      <td>2013-14</td>\n",
       "      <td>2011-12</td>\n",
       "      <td>2012-13</td>\n",
       "      <td>2012-13</td>\n",
       "      <td>2012-13</td>\n",
       "      <td>2010-11</td>\n",
       "      <td>2013-14</td>\n",
       "      <td>2007-08</td>\n",
       "      <td>2009-10</td>\n",
       "      <td>2011-12</td>\n",
       "      <td>2013-14</td>\n",
       "      <td>2010-11</td>\n",
       "      <td>2007-08</td>\n",
       "      <td>2012-13</td>\n",
       "      <td>2011-12</td>\n",
       "      <td>2009-10</td>\n",
       "      <td>2003-04</td>\n",
       "      <td>2011-12</td>\n",
       "      <td>2010-11</td>\n",
       "      <td>2005-06</td>\n",
       "    </tr>\n",
       "  </tbody>\n",
       "</table>\n",
       "</div>"
      ],
      "text/plain": [
       "                                  5033                    1254   \\\n",
       "Party                               BJP                     BJP   \n",
       "Name            Leela Builders Infrastr  Baldev Singh, Namdhari   \n",
       "PAN Given                             N                       Y   \n",
       "Amount                            50000                  100000   \n",
       "Financial Year                  2013-14                 2011-12   \n",
       "\n",
       "                                               9995                    9831   \\\n",
       "Party                                            BJP                     BJP   \n",
       "Name            Shree Gujarat Ginjer Trading Company  Shayamvijay Developers   \n",
       "PAN Given                                          Y                       N   \n",
       "Amount                                         25000                   25000   \n",
       "Financial Year                               2012-13                 2012-13   \n",
       "\n",
       "                  6413         3022           8140             5600   \\\n",
       "Party               BJP          BJP            BJP              INC   \n",
       "Name            Unknown  Ganga Singh  Rakesh Tiwari  Malaram Gangwal   \n",
       "PAN Given             Y            N              N                N   \n",
       "Amount            85000       100000         500000            33000   \n",
       "Financial Year  2012-13      2010-11        2013-14          2007-08   \n",
       "\n",
       "                            12059     12751           13046  \\\n",
       "Party                         INC       BJP             BJP   \n",
       "Name            Subodh Kant Sahay  Uma Devi  Veena Sabarwal   \n",
       "PAN Given                       N         Y               Y   \n",
       "Amount                      38500    100000           50000   \n",
       "Financial Year            2009-10   2011-12         2013-14   \n",
       "\n",
       "                              6769           9209                 8299   \\\n",
       "Party                           INC            INC                  BJP   \n",
       "Name            Nilesh Narayan Rane  Sesa Goa Ltd.  Ranjit Buildcon Ltd   \n",
       "PAN Given                         N              N                    Y   \n",
       "Amount                        54000        1500000              1500000   \n",
       "Financial Year              2010-11        2007-08              2012-13   \n",
       "\n",
       "                         1380                             997    \\\n",
       "Party                      BJP                              BJP   \n",
       "Name            Bhaktpal Singh  Asianet TV Holding Pvt. Limited   \n",
       "PAN Given                    Y                                Y   \n",
       "Amount                  100000                         50000000   \n",
       "Financial Year         2011-12                          2009-10   \n",
       "\n",
       "                             12422         8085              5124   \\\n",
       "Party                          BJP           INC               INC   \n",
       "Name            Taparia Tools Ltd.  Rajiv Shukla  Luizinho Falerio   \n",
       "PAN Given                        Y             N                 N   \n",
       "Amount                       25000         54000             34400   \n",
       "Financial Year             2003-04       2011-12           2010-11   \n",
       "\n",
       "                         2107   \n",
       "Party                      BJP  \n",
       "Name            D K Patel & Co  \n",
       "PAN Given                    N  \n",
       "Amount                  500000  \n",
       "Financial Year         2005-06  "
      ]
     },
     "execution_count": 12,
     "metadata": {},
     "output_type": "execute_result"
    }
   ],
   "source": [
    "df.sample(20).T"
   ]
  },
  {
   "cell_type": "markdown",
   "id": "fdfdee70",
   "metadata": {},
   "source": [
    "#"
   ]
  },
  {
   "cell_type": "markdown",
   "id": "3a45a0f4",
   "metadata": {},
   "source": [
    "### Analysis of Dataframe and its contents"
   ]
  },
  {
   "cell_type": "markdown",
   "id": "17a59cb3",
   "metadata": {},
   "source": [
    "#### Political parties considered"
   ]
  },
  {
   "cell_type": "code",
   "execution_count": 13,
   "id": "62028a75",
   "metadata": {},
   "outputs": [
    {
     "name": "stdout",
     "output_type": "stream",
     "text": [
      "['CPI' 'CPI(M)' 'INC' 'BJP' 'NCP']\n"
     ]
    }
   ],
   "source": [
    "print(df['Party'].unique())"
   ]
  },
  {
   "cell_type": "markdown",
   "id": "94d2aff0",
   "metadata": {},
   "source": [
    "#### Financial years considered "
   ]
  },
  {
   "cell_type": "code",
   "execution_count": 14,
   "id": "3df47218",
   "metadata": {},
   "outputs": [
    {
     "name": "stdout",
     "output_type": "stream",
     "text": [
      "['2003-04', '2004-05', '2005-06', '2006-07', '2007-08', '2008-09', '2009-10', '2010-11', '2011-12', '2012-13', '2013-14', '2014-15']\n"
     ]
    }
   ],
   "source": [
    "print(sorted(df['Financial Year'].unique()))"
   ]
  },
  {
   "cell_type": "markdown",
   "id": "c26728b8",
   "metadata": {},
   "source": [
    "#### Highest all time individual donation made"
   ]
  },
  {
   "cell_type": "code",
   "execution_count": 15,
   "id": "38a2fce8",
   "metadata": {
    "scrolled": true
   },
   "outputs": [
    {
     "name": "stdout",
     "output_type": "stream",
     "text": [
      "Person with the highest amount: General Electoral Trust\n",
      "Highest Amount Donated: 500000000\n"
     ]
    }
   ],
   "source": [
    "index_of_highest_amount = df['Amount'].idxmax()\n",
    "person_with_highest_amount = df.loc[index_of_highest_amount, 'Name']\n",
    "\n",
    "print(\"Person with the highest amount:\", person_with_highest_amount)\n",
    "print(\"Highest Amount Donated:\",df['Amount'].max())"
   ]
  },
  {
   "cell_type": "markdown",
   "id": "ffcbb3d0",
   "metadata": {},
   "source": [
    "#### Top 5 all time highest donations made"
   ]
  },
  {
   "cell_type": "code",
   "execution_count": 16,
   "id": "2bed7460",
   "metadata": {
    "scrolled": true
   },
   "outputs": [
    {
     "data": {
      "text/html": [
       "<div>\n",
       "<style scoped>\n",
       "    .dataframe tbody tr th:only-of-type {\n",
       "        vertical-align: middle;\n",
       "    }\n",
       "\n",
       "    .dataframe tbody tr th {\n",
       "        vertical-align: top;\n",
       "    }\n",
       "\n",
       "    .dataframe thead th {\n",
       "        text-align: right;\n",
       "    }\n",
       "</style>\n",
       "<table border=\"1\" class=\"dataframe\">\n",
       "  <thead>\n",
       "    <tr style=\"text-align: right;\">\n",
       "      <th></th>\n",
       "      <th>Party</th>\n",
       "      <th>Name</th>\n",
       "      <th>PAN Given</th>\n",
       "      <th>Amount</th>\n",
       "      <th>Financial Year</th>\n",
       "    </tr>\n",
       "  </thead>\n",
       "  <tbody>\n",
       "    <tr>\n",
       "      <th>3095</th>\n",
       "      <td>BJP</td>\n",
       "      <td>General Electoral Trust</td>\n",
       "      <td>N</td>\n",
       "      <td>500000000</td>\n",
       "      <td>2014-15</td>\n",
       "    </tr>\n",
       "    <tr>\n",
       "      <th>3138</th>\n",
       "      <td>INC</td>\n",
       "      <td>General Electoral Trust</td>\n",
       "      <td>N</td>\n",
       "      <td>500000000</td>\n",
       "      <td>2014-15</td>\n",
       "    </tr>\n",
       "    <tr>\n",
       "      <th>9082</th>\n",
       "      <td>BJP</td>\n",
       "      <td>Satya Electoral Trust</td>\n",
       "      <td>Y</td>\n",
       "      <td>240720000</td>\n",
       "      <td>2013-14</td>\n",
       "    </tr>\n",
       "    <tr>\n",
       "      <th>9083</th>\n",
       "      <td>BJP</td>\n",
       "      <td>Satya Electoral Trust</td>\n",
       "      <td>Y</td>\n",
       "      <td>200000000</td>\n",
       "      <td>2014-15</td>\n",
       "    </tr>\n",
       "    <tr>\n",
       "      <th>9085</th>\n",
       "      <td>BJP</td>\n",
       "      <td>Satya Electoral Trust</td>\n",
       "      <td>Y</td>\n",
       "      <td>200000000</td>\n",
       "      <td>2014-15</td>\n",
       "    </tr>\n",
       "  </tbody>\n",
       "</table>\n",
       "</div>"
      ],
      "text/plain": [
       "     Party                     Name PAN Given     Amount Financial Year\n",
       "3095   BJP  General Electoral Trust         N  500000000        2014-15\n",
       "3138   INC  General Electoral Trust         N  500000000        2014-15\n",
       "9082   BJP    Satya Electoral Trust         Y  240720000        2013-14\n",
       "9083   BJP    Satya Electoral Trust         Y  200000000        2014-15\n",
       "9085   BJP    Satya Electoral Trust         Y  200000000        2014-15"
      ]
     },
     "execution_count": 16,
     "metadata": {},
     "output_type": "execute_result"
    }
   ],
   "source": [
    "sorted_df = df.sort_values(by='Amount', ascending=False)\n",
    "top_5_donators = sorted_df.head(5)\n",
    "top_5_donators"
   ]
  },
  {
   "cell_type": "markdown",
   "id": "69215e71",
   "metadata": {},
   "source": [
    "#### Highest all time Enterprise donation made"
   ]
  },
  {
   "cell_type": "code",
   "execution_count": 17,
   "id": "6c7330ba",
   "metadata": {},
   "outputs": [
    {
     "name": "stdout",
     "output_type": "stream",
     "text": [
      "Enterprise with the highest amount: Satya Electoral Trust\n",
      "Highest Amount Donated: 2178720000\n"
     ]
    }
   ],
   "source": [
    "index_of_highest_amount_by_enterprise = df.groupby(['Name'])['Amount'].sum().idxmax()\n",
    "enterprise_with_highest_amount = index_of_highest_amount_by_enterprise\n",
    "\n",
    "print(\"Enterprise with the highest amount:\", enterprise_with_highest_amount)\n",
    "print(\"Highest Amount Donated:\",df.groupby(['Name'])['Amount'].sum().max())"
   ]
  },
  {
   "cell_type": "markdown",
   "id": "5fcaf7a5",
   "metadata": {},
   "source": [
    "#### Total amount of donation made year wise"
   ]
  },
  {
   "cell_type": "code",
   "execution_count": 18,
   "id": "9ccecba3",
   "metadata": {},
   "outputs": [
    {
     "data": {
      "text/plain": [
       "Financial Year\n",
       "2003-04     146162222\n",
       "2004-05     661603287\n",
       "2005-06      99907293\n",
       "2006-07     153178304\n",
       "2007-08     350074020\n",
       "2008-09     647906691\n",
       "2009-10    1706671272\n",
       "2010-11     253982700\n",
       "2011-12     480926109\n",
       "2012-13     991430132\n",
       "2013-14    2477930120\n",
       "2014-15    6223898440\n",
       "Name: Amount, dtype: int64"
      ]
     },
     "execution_count": 18,
     "metadata": {},
     "output_type": "execute_result"
    }
   ],
   "source": [
    "df.groupby(['Financial Year'])['Amount'].sum()"
   ]
  },
  {
   "cell_type": "markdown",
   "id": "cdd89802",
   "metadata": {},
   "source": [
    "#"
   ]
  },
  {
   "cell_type": "markdown",
   "id": "0f8e54a8",
   "metadata": {},
   "source": [
    "## Univariate and Multivariate Analysis"
   ]
  },
  {
   "cell_type": "markdown",
   "id": "fffc02c2",
   "metadata": {},
   "source": [
    "### 1) Donation made with PAN "
   ]
  },
  {
   "cell_type": "code",
   "execution_count": 19,
   "id": "42425070",
   "metadata": {},
   "outputs": [
    {
     "data": {
      "text/html": [
       "<div>\n",
       "<style scoped>\n",
       "    .dataframe tbody tr th:only-of-type {\n",
       "        vertical-align: middle;\n",
       "    }\n",
       "\n",
       "    .dataframe tbody tr th {\n",
       "        vertical-align: top;\n",
       "    }\n",
       "\n",
       "    .dataframe thead th {\n",
       "        text-align: right;\n",
       "    }\n",
       "</style>\n",
       "<table border=\"1\" class=\"dataframe\">\n",
       "  <thead>\n",
       "    <tr style=\"text-align: right;\">\n",
       "      <th></th>\n",
       "      <th>Party</th>\n",
       "      <th>Name</th>\n",
       "      <th>PAN Given</th>\n",
       "      <th>Amount</th>\n",
       "      <th>Financial Year</th>\n",
       "    </tr>\n",
       "  </thead>\n",
       "  <tbody>\n",
       "    <tr>\n",
       "      <th>5470</th>\n",
       "      <td>CPI</td>\n",
       "      <td>Maharashtra State Council</td>\n",
       "      <td>N</td>\n",
       "      <td>30000</td>\n",
       "      <td>2008-09</td>\n",
       "    </tr>\n",
       "    <tr>\n",
       "      <th>6860</th>\n",
       "      <td>CPI(M)</td>\n",
       "      <td>Nizam Deecan Sugars Ltd.</td>\n",
       "      <td>Y</td>\n",
       "      <td>50000</td>\n",
       "      <td>2011-12</td>\n",
       "    </tr>\n",
       "    <tr>\n",
       "      <th>7154</th>\n",
       "      <td>BJP</td>\n",
       "      <td>Par Camicals</td>\n",
       "      <td>N</td>\n",
       "      <td>21000</td>\n",
       "      <td>2005-06</td>\n",
       "    </tr>\n",
       "    <tr>\n",
       "      <th>5999</th>\n",
       "      <td>BJP</td>\n",
       "      <td>Mls Narme Estates</td>\n",
       "      <td>N</td>\n",
       "      <td>500000</td>\n",
       "      <td>2004-05</td>\n",
       "    </tr>\n",
       "    <tr>\n",
       "      <th>156</th>\n",
       "      <td>BJP</td>\n",
       "      <td>Aarti Drug Ltd.</td>\n",
       "      <td>N</td>\n",
       "      <td>50000</td>\n",
       "      <td>2012-13</td>\n",
       "    </tr>\n",
       "  </tbody>\n",
       "</table>\n",
       "</div>"
      ],
      "text/plain": [
       "       Party                       Name PAN Given  Amount Financial Year\n",
       "5470     CPI  Maharashtra State Council         N   30000        2008-09\n",
       "6860  CPI(M)   Nizam Deecan Sugars Ltd.         Y   50000        2011-12\n",
       "7154     BJP               Par Camicals         N   21000        2005-06\n",
       "5999     BJP          Mls Narme Estates         N  500000        2004-05\n",
       "156      BJP            Aarti Drug Ltd.         N   50000        2012-13"
      ]
     },
     "execution_count": 19,
     "metadata": {},
     "output_type": "execute_result"
    }
   ],
   "source": [
    "df.sample(5)"
   ]
  },
  {
   "cell_type": "code",
   "execution_count": 20,
   "id": "be6c09a7",
   "metadata": {},
   "outputs": [
    {
     "data": {
      "image/png": "[encoded data removed]",
      "text/plain": [
       "<Figure size 600x400 with 1 Axes>"
      ]
     },
     "metadata": {},
     "output_type": "display_data"
    }
   ],
   "source": [
    "df['PAN Given'] = df['PAN Given'].astype(str)\n",
    "plt.figure(figsize=(6,4))\n",
    "sns.set_style(\"whitegrid\")\n",
    "sns.countplot(x='PAN Given', data=df, palette='pastel')\n",
    "plt.title('Distribution of PAN Given')\n",
    "plt.xlabel('PAN Given')\n",
    "plt.ylabel('Count')\n",
    "plt.show()"
   ]
  },
  {
   "cell_type": "markdown",
   "id": "033fe697",
   "metadata": {},
   "source": [
    "<font size=\"+0.5\"  color=\"Orange\">\n",
    "    \n",
    "- **OBSERVATION**\n",
    "- **Transaction/donations made without PAN details are considerably high**"
   ]
  },
  {
   "cell_type": "markdown",
   "id": "9d02835e",
   "metadata": {},
   "source": [
    "#"
   ]
  },
  {
   "cell_type": "markdown",
   "id": "408a86d3",
   "metadata": {},
   "source": [
    "### 2) Amount Distribution for PAN Details"
   ]
  },
  {
   "cell_type": "code",
   "execution_count": 21,
   "id": "7213eb88",
   "metadata": {
    "scrolled": false
   },
   "outputs": [
    {
     "data": {
      "image/png": "[encoded data removed]",
      "text/plain": [
       "<Figure size 640x480 with 1 Axes>"
      ]
     },
     "metadata": {},
     "output_type": "display_data"
    }
   ],
   "source": [
    "PAN_and_Donation = df.groupby(['PAN Given'])['Amount'].sum()\n",
    "PAN_and_Donation.plot(kind = 'bar')\n",
    "plt.title('Amount Distribution of PAN Given')\n",
    "plt.xlabel('PAN Given')\n",
    "plt.ylabel('Amount in crores')\n",
    "plt.show()"
   ]
  },
  {
   "cell_type": "markdown",
   "id": "66fa9a60",
   "metadata": {},
   "source": [
    "<font size=\"+0.5\"  color=\"Orange\">\n",
    "    \n",
    "- **OBSERVATION**\n",
    "- **Amount sum for donations with PAN attached and without PAN details attached are almost equal**"
   ]
  },
  {
   "cell_type": "markdown",
   "id": "9caad3fe",
   "metadata": {},
   "source": [
    "### 3) Amount destribution by considering amount range with PAN details"
   ]
  },
  {
   "cell_type": "code",
   "execution_count": 22,
   "id": "0e77c5d4",
   "metadata": {},
   "outputs": [
    {
     "data": {
      "text/plain": [
       "count    1.357300e+04\n",
       "mean     1.045728e+06\n",
       "std      8.780605e+06\n",
       "min      1.875000e+03\n",
       "25%      3.200000e+04\n",
       "50%      6.000000e+04\n",
       "75%      2.000000e+05\n",
       "max      5.000000e+08\n",
       "Name: Amount, dtype: float64"
      ]
     },
     "execution_count": 22,
     "metadata": {},
     "output_type": "execute_result"
    }
   ],
   "source": [
    "df['Amount'].describe()"
   ]
  },
  {
   "cell_type": "code",
   "execution_count": 23,
   "id": "07ad0074",
   "metadata": {},
   "outputs": [
    {
     "data": {
      "image/png": "[encoded data removed]",
      "text/plain": [
       "<Figure size 640x480 with 1 Axes>"
      ]
     },
     "metadata": {},
     "output_type": "display_data"
    }
   ],
   "source": [
    "amount_90th_percentile = df['Amount'].quantile(0.90)\n",
    "filtered_df = df[df['Amount'] <= amount_90th_percentile]\n",
    "sns.violinplot(x='PAN Given', y='Amount', data=filtered_df)\n",
    "plt.title('Amount destribution by considering amount range with PAN details')\n",
    "plt.xlabel('PAN Given')\n",
    "plt.ylabel('Amount range')\n",
    "plt.show()"
   ]
  },
  {
   "cell_type": "markdown",
   "id": "255ee048",
   "metadata": {},
   "source": [
    "<font size=\"+0.5\"  color=\"Orange\">\n",
    "    \n",
    "- **OBSERVATION**\n",
    "- **The donations without PAN details having lesser amount range are more compared to the donations with PAN details**"
   ]
  },
  {
   "cell_type": "markdown",
   "id": "7512583d",
   "metadata": {},
   "source": [
    "#"
   ]
  },
  {
   "cell_type": "markdown",
   "id": "16b7b135",
   "metadata": {},
   "source": [
    "### 4) Yearly distribution of total donation"
   ]
  },
  {
   "cell_type": "code",
   "execution_count": 24,
   "id": "e1efd09e",
   "metadata": {},
   "outputs": [
    {
     "data": {
      "text/plain": [
       "Financial Year\n",
       "2003-04     146162222\n",
       "2004-05     661603287\n",
       "2005-06      99907293\n",
       "2006-07     153178304\n",
       "2007-08     350074020\n",
       "2008-09     647906691\n",
       "2009-10    1706671272\n",
       "2010-11     253982700\n",
       "2011-12     480926109\n",
       "2012-13     991430132\n",
       "2013-14    2477930120\n",
       "2014-15    6223898440\n",
       "Name: Amount, dtype: int64"
      ]
     },
     "execution_count": 24,
     "metadata": {},
     "output_type": "execute_result"
    }
   ],
   "source": [
    "yearly_donation_distribution = df.groupby(['Financial Year'])['Amount'].sum()\n",
    "yearly_donation_distribution"
   ]
  },
  {
   "cell_type": "code",
   "execution_count": 25,
   "id": "ec280c2c",
   "metadata": {},
   "outputs": [
    {
     "data": {
      "image/png": "[encoded data removed]",
      "text/plain": [
       "<Figure size 800x400 with 1 Axes>"
      ]
     },
     "metadata": {},
     "output_type": "display_data"
    }
   ],
   "source": [
    "plt.figure(figsize=(8, 4))\n",
    "sns.lineplot(x='Financial Year', y='Amount', data=yearly_donation_distribution.reset_index())\n",
    "plt.title('Yearly Donation Distribution')\n",
    "plt.xlabel('Financial Year')\n",
    "plt.ylabel('Total Donation Amount')\n",
    "plt.xticks(rotation=45) \n",
    "plt.show()\n"
   ]
  },
  {
   "cell_type": "markdown",
   "id": "e6135f36",
   "metadata": {},
   "source": [
    "<font size=\"+0.5\"  color=\"Orange\">\n",
    "    \n",
    "- **OBSERVATION**\n",
    "- **The graph shows rapid increase of political donations after financial year 2010-11**"
   ]
  },
  {
   "cell_type": "markdown",
   "id": "edc6a211",
   "metadata": {},
   "source": [
    "#"
   ]
  },
  {
   "cell_type": "markdown",
   "id": "dd7a66d9",
   "metadata": {},
   "source": [
    "### 5) Yearly distribution of total donation for each Political Parties"
   ]
  },
  {
   "cell_type": "code",
   "execution_count": 26,
   "id": "2c584919",
   "metadata": {
    "scrolled": false
   },
   "outputs": [
    {
     "data": {
      "image/png": "[encoded data removed]",
      "text/plain": [
       "<Figure size 1000x600 with 1 Axes>"
      ]
     },
     "metadata": {},
     "output_type": "display_data"
    }
   ],
   "source": [
    "party_yearly_donation = df.groupby(['Financial Year', 'Party'])['Amount'].sum().reset_index()\n",
    "plt.figure(figsize=(10, 6))\n",
    "sns.lineplot(x='Financial Year', y='Amount', hue='Party', data=party_yearly_donation)\n",
    "plt.title('Yearly Donation Distribution by Political Party')\n",
    "plt.xlabel('Financial Year')\n",
    "plt.ylabel('Total Donation Amount')\n",
    "plt.xticks(rotation=45) \n",
    "plt.legend(title='Party', loc='upper left', bbox_to_anchor=(1, 1))\n",
    "plt.show()\n"
   ]
  },
  {
   "cell_type": "markdown",
   "id": "16b08b98",
   "metadata": {},
   "source": [
    "<font size=\"+0.5\"  color=\"Orange\">\n",
    "    \n",
    "- **OBSERVATION**\n",
    "- **The graph shows rapid increase of political donations after financial year 2010-11**\n",
    "- **BJP and INC both political parties having highest donations also shows similar trend.**"
   ]
  },
  {
   "cell_type": "markdown",
   "id": "1c165fda",
   "metadata": {},
   "source": [
    "#"
   ]
  },
  {
   "cell_type": "markdown",
   "id": "37400891",
   "metadata": {},
   "source": [
    "### 6) Donation made to each parties "
   ]
  },
  {
   "cell_type": "code",
   "execution_count": 30,
   "id": "b2c345a1",
   "metadata": {},
   "outputs": [
    {
     "data": {
      "text/plain": [
       "Party\n",
       "BJP       9295525996\n",
       "CPI         68123698\n",
       "CPI(M)     150622128\n",
       "INC       4031487349\n",
       "NCP        647911419\n",
       "Name: Amount, dtype: int64"
      ]
     },
     "execution_count": 30,
     "metadata": {},
     "output_type": "execute_result"
    }
   ],
   "source": [
    "df_parties = df.groupby(['Party'])['Amount'].sum()\n",
    "df_parties"
   ]
  },
  {
   "cell_type": "code",
   "execution_count": 33,
   "id": "4611a153",
   "metadata": {},
   "outputs": [
    {
     "data": {
      "image/png": "[encoded data removed]",
      "text/plain": [
       "<Figure size 600x600 with 1 Axes>"
      ]
     },
     "metadata": {},
     "output_type": "display_data"
    }
   ],
   "source": [
    "df_parties = df_parties.reset_index()\n",
    "plt.figure(figsize=(6,6))\n",
    "plt.pie(df_parties['Amount'], labels=df_parties['Party'], autopct='%1.1f%%', startangle=140)\n",
    "plt.title('Total Donation Amount by Political Party')\n",
    "plt.axis('equal')\n",
    "plt.show()\n"
   ]
  },
  {
   "cell_type": "markdown",
   "id": "cde989ad",
   "metadata": {},
   "source": [
    "<font size=\"+0.5\"  color=\"Orange\">\n",
    "    \n",
    "- **OBSERVATION**\n",
    "- **BJP and INC among other parties received larger share of donations**"
   ]
  },
  {
   "cell_type": "markdown",
   "id": "df6ea363",
   "metadata": {},
   "source": [
    "#"
   ]
  },
  {
   "cell_type": "markdown",
   "id": "05d59702",
   "metadata": {},
   "source": [
    "### 7) Donation made without PAN for each Parties"
   ]
  },
  {
   "cell_type": "code",
   "execution_count": 34,
   "id": "b927394f",
   "metadata": {},
   "outputs": [
    {
     "data": {
      "text/html": [
       "<div>\n",
       "<style scoped>\n",
       "    .dataframe tbody tr th:only-of-type {\n",
       "        vertical-align: middle;\n",
       "    }\n",
       "\n",
       "    .dataframe tbody tr th {\n",
       "        vertical-align: top;\n",
       "    }\n",
       "\n",
       "    .dataframe thead th {\n",
       "        text-align: right;\n",
       "    }\n",
       "</style>\n",
       "<table border=\"1\" class=\"dataframe\">\n",
       "  <thead>\n",
       "    <tr style=\"text-align: right;\">\n",
       "      <th></th>\n",
       "      <th>Party</th>\n",
       "      <th>Name</th>\n",
       "      <th>PAN Given</th>\n",
       "      <th>Amount</th>\n",
       "      <th>Financial Year</th>\n",
       "    </tr>\n",
       "  </thead>\n",
       "  <tbody>\n",
       "    <tr>\n",
       "      <th>0</th>\n",
       "      <td>CPI</td>\n",
       "      <td>Aziz Pasha</td>\n",
       "      <td>Y</td>\n",
       "      <td>3000000</td>\n",
       "      <td>2010-11</td>\n",
       "    </tr>\n",
       "    <tr>\n",
       "      <th>1</th>\n",
       "      <td>CPI(M)</td>\n",
       "      <td>V K Ramachandran</td>\n",
       "      <td>Y</td>\n",
       "      <td>10000000</td>\n",
       "      <td>2014-15</td>\n",
       "    </tr>\n",
       "    <tr>\n",
       "      <th>2</th>\n",
       "      <td>INC</td>\n",
       "      <td>Dr. Manmohan Singh</td>\n",
       "      <td>N</td>\n",
       "      <td>108000</td>\n",
       "      <td>2014-15</td>\n",
       "    </tr>\n",
       "    <tr>\n",
       "      <th>3</th>\n",
       "      <td>INC</td>\n",
       "      <td>Dr. Manda Jagnathan</td>\n",
       "      <td>N</td>\n",
       "      <td>54000</td>\n",
       "      <td>2011-12</td>\n",
       "    </tr>\n",
       "    <tr>\n",
       "      <th>4</th>\n",
       "      <td>INC</td>\n",
       "      <td>Prof. K.V.Thomas</td>\n",
       "      <td>N</td>\n",
       "      <td>54000</td>\n",
       "      <td>2011-12</td>\n",
       "    </tr>\n",
       "  </tbody>\n",
       "</table>\n",
       "</div>"
      ],
      "text/plain": [
       "    Party                 Name PAN Given    Amount Financial Year\n",
       "0     CPI           Aziz Pasha         Y   3000000        2010-11\n",
       "1  CPI(M)     V K Ramachandran         Y  10000000        2014-15\n",
       "2     INC   Dr. Manmohan Singh         N    108000        2014-15\n",
       "3     INC  Dr. Manda Jagnathan         N     54000        2011-12\n",
       "4     INC     Prof. K.V.Thomas         N     54000        2011-12"
      ]
     },
     "execution_count": 34,
     "metadata": {},
     "output_type": "execute_result"
    }
   ],
   "source": [
    "df.head()"
   ]
  },
  {
   "cell_type": "code",
   "execution_count": 37,
   "id": "c26bf1b1",
   "metadata": {
    "scrolled": false
   },
   "outputs": [
    {
     "data": {
      "image/png": "[encoded data removed]",
      "text/plain": [
       "<Figure size 640x480 with 1 Axes>"
      ]
     },
     "metadata": {},
     "output_type": "display_data"
    }
   ],
   "source": [
    "donation_without_pan = df[df['PAN Given'] == 'N']\n",
    "donation_without_pan.groupby(['Party'])['Amount'].sum().plot(kind = 'barh')\n",
    "plt.show()"
   ]
  },
  {
   "cell_type": "markdown",
   "id": "eba7e100",
   "metadata": {},
   "source": [
    "#"
   ]
  },
  {
   "cell_type": "markdown",
   "id": "e23344aa",
   "metadata": {},
   "source": [
    "### 8) Top 10 Largest donations made by Enterprises"
   ]
  },
  {
   "cell_type": "code",
   "execution_count": 39,
   "id": "e456f44b",
   "metadata": {},
   "outputs": [
    {
     "data": {
      "image/png": "[encoded data removed]",
      "text/plain": [
       "<Figure size 640x480 with 1 Axes>"
      ]
     },
     "metadata": {},
     "output_type": "display_data"
    }
   ],
   "source": [
    "df.groupby(['Name'])['Amount'].sum().nlargest(10).plot(kind = 'barh')\n",
    "plt.show()"
   ]
  },
  {
   "cell_type": "code",
   "execution_count": null,
   "id": "6524388b",
   "metadata": {},
   "outputs": [],
   "source": []
  },
  {
   "cell_type": "code",
   "execution_count": null,
   "id": "5060062f",
   "metadata": {},
   "outputs": [],
   "source": []
  },
  {
   "cell_type": "code",
   "execution_count": null,
   "id": "a4d96af6",
   "metadata": {},
   "outputs": [],
   "source": []
  },
  {
   "cell_type": "code",
   "execution_count": null,
   "id": "d2f1e926",
   "metadata": {},
   "outputs": [],
   "source": []
  },
  {
   "cell_type": "code",
   "execution_count": null,
   "id": "f9ecd457",
   "metadata": {},
   "outputs": [],
   "source": []
  },
  {
   "cell_type": "code",
   "execution_count": null,
   "id": "b686a554",
   "metadata": {},
   "outputs": [],
   "source": []
  },
  {
   "cell_type": "code",
   "execution_count": null,
   "id": "c5278f83",
   "metadata": {},
   "outputs": [],
   "source": []
  },
  {
   "cell_type": "code",
   "execution_count": null,
   "id": "90aae92a",
   "metadata": {},
   "outputs": [],
   "source": []
  },
  {
   "cell_type": "code",
   "execution_count": null,
   "id": "b73b4b10",
   "metadata": {},
   "outputs": [],
   "source": []
  }
 ],
 "metadata": {
  "kernelspec": {
   "display_name": "Python 3 (ipykernel)",
   "language": "python",
   "name": "python3"
  },
  "language_info": {
   "codemirror_mode": {
    "name": "ipython",
    "version": 3
   },
   "file_extension": ".py",
   "mimetype": "text/x-python",
   "name": "python",
   "nbconvert_exporter": "python",
   "pygments_lexer": "ipython3",
   "version": "3.11.4"
  }
 },
 "nbformat": 4,
 "nbformat_minor": 5
}
